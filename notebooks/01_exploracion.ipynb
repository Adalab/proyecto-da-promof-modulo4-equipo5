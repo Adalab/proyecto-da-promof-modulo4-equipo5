{
 "cells": [
  {
   "cell_type": "code",
   "execution_count": 1,
   "metadata": {},
   "outputs": [],
   "source": [
    "# Tratamiento de datos\n",
    "# -----------------------------------------------------------------------\n",
    "import pandas as pd\n",
    "import numpy as np\n",
    "\n",
    "# Imputación de nulos usando métodos avanzados estadísticos\n",
    "# -----------------------------------------------------------------------\n",
    "from sklearn.impute import SimpleImputer\n",
    "from sklearn.experimental import enable_iterative_imputer\n",
    "from sklearn.impute import IterativeImputer\n",
    "from sklearn.impute import KNNImputer\n",
    "\n",
    "# Librerías de visualización\n",
    "# -----------------------------------------------------------------------\n",
    "import seaborn as sns\n",
    "import matplotlib.pyplot as plt\n",
    "\n",
    "# Librerías para trabajar con fechas\n",
    "# -----------------------------------------------------------------------\n",
    "from datetime import datetime\n",
    "\n",
    "# Configuración\n",
    "# -----------------------------------------------------------------------\n",
    "pd.set_option('display.max_columns', None) # para poder visualizar todas las columnas de los DataFrames\n",
    "# pd.set_option('display.max_rows', None) # para poder visualizar todas las filas de los DataFrames"
   ]
  },
  {
   "cell_type": "code",
   "execution_count": 2,
   "metadata": {},
   "outputs": [
    {
     "name": "stderr",
     "output_type": "stream",
     "text": [
      "/home/karvala/anaconda3/lib/python3.9/site-packages/IPython/core/interactiveshell.py:3444: DtypeWarning: Columns (1,2,5,13,14,15,16,20,21,26,30,32) have mixed types.Specify dtype option on import or set low_memory=False.\n",
      "  exec(code_obj, self.user_global_ns, self.user_ns)\n"
     ]
    }
   ],
   "source": [
    "df = pd.read_csv('../../finanzas-hotel-bookings.csv', index_col=0)"
   ]
  },
  {
   "cell_type": "code",
   "execution_count": null,
   "metadata": {},
   "outputs": [],
   "source": [
    "def exploracion_df(dataframe):\n",
    "    \"\"\"\n",
    "    Realiza un análisis exploratorio básico de un DataFrame, mostrando información sobre duplicados,\n",
    "    valores nulos, tipos de datos, valores únicos para columnas categóricas y estadísticas descriptivas\n",
    "    para columnas categóricas y numéricas, agrupadas por la columna de control.\n",
    "\n",
    "    Parámetros:\n",
    "    - dataframe (DataFrame): El DataFrame que se va a explorar.\n",
    "    \n",
    "    Returns: \n",
    "    No devuelve nada directamente, pero imprime en la consola la información exploratoria.\n",
    "    \"\"\"\n",
    "    \n",
    "    #Echamos un vistazo\n",
    "    print(\"Primeras filas:\")\n",
    "    display(dataframe.head(5))\n",
    "    print(\"\\n......................\\n\")\n",
    "\n",
    "    print(\"Últimas filas:\")\n",
    "    display(dataframe.tail(5))\n",
    "    print(\"\\n.....................\\n\")\n",
    "\n",
    "    print(\"Filas aleatorias:\")\n",
    "    display(dataframe.sample(5))\n",
    "    print(\"\\n.....................\\n\")\n",
    "\n",
    "    print(f\"El dataframe tiene {dataframe.shape[0]} filas y {dataframe.shape[1]} columnas\")\n",
    "    print(\"\\n.....................\\n\")    \n",
    "\n",
    "    print(\"Tipos de datos y nulos:\")\n",
    "    display(dataframe.info())\n",
    "    print(\"\\n.....................\\n\")\n",
    "    \n",
    "    print(\"Características columnas númericas:\")\n",
    "    display(dataframe.describe().T)\n",
    "    print(\"\\n.....................\\n\")\n",
    "\n",
    "    print(\"Características columnas de texto\")\n",
    "    try:\n",
    "        display(dataframe.describe(include='O').T)  \n",
    "    except:\n",
    "        print(\"No hay columnas categóricas\")\n",
    "    print(\"\\n.....................\\n\")\n",
    "\n",
    "    print(\"Duplicados:\")\n",
    "    display(dataframe.duplicated().sum())\n",
    "    print(\"\\n.....................\\n\")\n",
    "\n",
    "    # generamos un DataFrame para los valores nulos\n",
    "    print(\"Los nulos que tenemos en el conjunto de datos son:\")\n",
    "    df_nulos = pd.DataFrame(dataframe.isnull().sum() / dataframe.shape[0] * 100, columns = [\"%_nulos\"])\n",
    "    display(df_nulos[df_nulos[\"%_nulos\"] > 0])\n",
    "\n",
    "    print(\"\\n.....................\\n\")\n",
    "    print(\"Los valores que tenemos para las columnas categóricas son: \")\n",
    "    try:\n",
    "        df_categoricas = dataframe.select_dtypes(include = \"O\")\n",
    "\n",
    "        for col in df_categoricas.columns:\n",
    "            print(f\"La columna {col.upper()} tiene las siguientes valore únicos:\")\n",
    "            display(pd.DataFrame(dataframe[col].value_counts()/dataframe[col].shape[0])*100) \n",
    "    except:\n",
    "        print(\"No hay columnas categóricas\")\n",
    "    print(\"\\n.....................\\n\")  "
   ]
  },
  {
   "cell_type": "code",
   "execution_count": null,
   "metadata": {},
   "outputs": [],
   "source": [
    "# exploracion_df(df)"
   ]
  },
  {
   "cell_type": "code",
   "execution_count": null,
   "metadata": {},
   "outputs": [],
   "source": [
    "def get_info(df: pd.DataFrame):\n",
    "    info = df.dtypes.to_frame('dtypes')\n",
    "    info['non_null'] = df.count()\n",
    "    info['null'] = 182877 -df.count()\n",
    "    info['unique_values'] = df.apply(lambda srs: len(srs.unique()))\n",
    "    return info\n",
    "\n",
    "df_info=get_info(df)\n",
    "df_info.to_csv(\"info.csv\")"
   ]
  },
  {
   "cell_type": "code",
   "execution_count": null,
   "metadata": {},
   "outputs": [],
   "source": [
    "df.drop_duplicates(inplace = True)"
   ]
  },
  {
   "cell_type": "code",
   "execution_count": null,
   "metadata": {},
   "outputs": [],
   "source": [
    "df.dropna(how='all', inplace=True)"
   ]
  },
  {
   "cell_type": "code",
   "execution_count": null,
   "metadata": {},
   "outputs": [],
   "source": [
    "def str_to_nan(columna, cadena):\n",
    "    \"\"\"\n",
    "    Convierte un string a un nulo de numpy\n",
    "\n",
    "    Args:\n",
    "        columna (Series): columna de un dataframe donde cambiar un string por np.nan\n",
    "\n",
    "    Returns:\n",
    "        columna (Series): devuelve la columna del dataframe con los strings especificados cambiados por nulos \n",
    "    \"\"\"  \n",
    "    return columna.replace(cadena, np.nan)"
   ]
  },
  {
   "cell_type": "code",
   "execution_count": null,
   "metadata": {},
   "outputs": [],
   "source": [
    "df['reservation_status_date'][df['reservation_status_date'] > '2020-01-01']"
   ]
  },
  {
   "cell_type": "code",
   "execution_count": null,
   "metadata": {},
   "outputs": [],
   "source": [
    "def a_fecha(cadena):\n",
    "    try:\n",
    "        return pd.to_datetime(cadena, format='%Y-%m-%d %H:%M:%S')\n",
    "    except:\n",
    "        return np.nan    "
   ]
  },
  {
   "cell_type": "code",
   "execution_count": null,
   "metadata": {},
   "outputs": [],
   "source": [
    "df['reservation_status_date'] = df['reservation_status_date'].apply(a_fecha)"
   ]
  },
  {
   "cell_type": "code",
   "execution_count": null,
   "metadata": {},
   "outputs": [],
   "source": [
    "df['reservation_status_date'] = df['reservation_status_date'].dt.year\n",
    "df['reservation_status_date'].apply"
   ]
  },
  {
   "cell_type": "code",
   "execution_count": null,
   "metadata": {},
   "outputs": [],
   "source": [
    "df['arrival_date_year'] = df['arrival_date_year'].fillna(df['reservation_status_date'])\n",
    "df['arrival_date_year'][df['arrival_date_year'].isna()]"
   ]
  },
  {
   "cell_type": "code",
   "execution_count": null,
   "metadata": {},
   "outputs": [],
   "source": [
    "display(df['arrival_date_year'].isna().sum()/df.shape[0]*100)"
   ]
  },
  {
   "cell_type": "code",
   "execution_count": null,
   "metadata": {},
   "outputs": [],
   "source": [
    "df['country'].unique()"
   ]
  },
  {
   "cell_type": "code",
   "execution_count": null,
   "metadata": {},
   "outputs": [],
   "source": [
    "codigo_paises = {\n",
    "    'PRT': 'Portugal',\n",
    "    np. nan: np.nan,\n",
    "    'GBR': 'United Kingdom',\n",
    "    'USA': 'United States',\n",
    "    'ESP': 'Spain',\n",
    "    'IRL': 'Ireland',\n",
    "    'FRA': 'France',\n",
    "    'ROU': 'Romania',\n",
    "    'NOR': 'Norway',\n",
    "    'OMN': 'Oman',\n",
    "    'ARG': 'Argentina',\n",
    "    'DEU': 'Germany',\n",
    "    'CHE': 'Switzerland',\n",
    "    'GRC': 'Greece',\n",
    "    'NLD': 'Netherlands',\n",
    "    'DNK': 'Denmark',\n",
    "    'RUS': 'Russia',\n",
    "    'POL': 'Poland',\n",
    "    'AUS': 'Australia',\n",
    "    'EST': 'Estonia',\n",
    "    'CZE': 'Czech Republic',\n",
    "    'BRA': 'Brazil',\n",
    "    'BEL': 'Belgium',\n",
    "    'CN': 'China',\n",
    "    'SWE': 'Sweden',\n",
    "    'FIN': 'Finland',\n",
    "    'MOZ': 'Mozambique',\n",
    "    'SVN': 'Slovenia',\n",
    "    'MAR': 'Morocco',\n",
    "    'ITA': 'Italy',\n",
    "    'UKR': 'Ukraine',\n",
    "    'SMR': 'San Marino',\n",
    "    'LVA': 'Latvia',\n",
    "    'PRI': 'Puerto Rico',\n",
    "    'CHL': 'Chile',\n",
    "    'CHN': 'China',\n",
    "    'LTU': 'Lithuania',\n",
    "    'LUX': 'Luxembourg',\n",
    "    'AUT': 'Austria',\n",
    "    'TUR': 'Turkey',\n",
    "    'MEX': 'Mexico',\n",
    "    'ZAF': 'South Africa',\n",
    "    'AGO': 'Angola',\n",
    "    'ISR': 'Israel',\n",
    "    'IND': 'India',\n",
    "    'CYM': 'Cayman Islands',\n",
    "    'ZMB': 'Zambia',\n",
    "    'CPV': 'Cape Verde',\n",
    "    'ZWE': 'Zimbabwe',\n",
    "    'DZA': 'Algeria',\n",
    "    'KOR': 'South Korea',\n",
    "    'HUN': 'Hungary',\n",
    "    'ARE': 'United Arab Emirates',\n",
    "    'TUN': 'Tunisia',\n",
    "    'JAM': 'Jamaica',\n",
    "    'ALB': 'Albania',\n",
    "    'HRV': 'Croatia',\n",
    "    'HKG': 'Hong Kong',\n",
    "    'AND': 'Andorra',\n",
    "    'GIB': 'Gibraltar',\n",
    "    'URY': 'Uruguay',\n",
    "    'BLR': 'Belarus',\n",
    "    'JEY': 'Jersey',\n",
    "    'CYP': 'Cyprus',\n",
    "    'MDV': 'Maldives',\n",
    "    'FJI': 'Fiji',\n",
    "    'KAZ': 'Kazakhstan',\n",
    "    'PAK': 'Pakistan',\n",
    "    'IDN': 'Indonesia',\n",
    "    'LBN': 'Lebanon',\n",
    "    'PHL': 'Philippines',\n",
    "    'COL': 'Colombia',\n",
    "    'SEN': 'Senegal',\n",
    "    'GEO': 'Georgia',\n",
    "    'AZE': 'Azerbaijan',\n",
    "    'BHR': 'Bahrain',\n",
    "    'NZL': 'New Zealand',\n",
    "    'THA': 'Thailand',\n",
    "    'DOM': 'Dominican Republic',\n",
    "    'MYS': 'Malaysia',\n",
    "    'VEN': 'Venezuela',\n",
    "    'ARM': 'Armenia',\n",
    "    'LKA': 'Sri Lanka',\n",
    "    'CUB': 'Cuba',\n",
    "    'CMR': 'Cameroon',\n",
    "    'IRN': 'Iran',\n",
    "    'BIH': 'Bosnia and Herzegovina',\n",
    "    'NGA': 'Nigeria',\n",
    "    'COM': 'Comoros',\n",
    "    'BGR': 'Bulgaria',\n",
    "    'CIV': 'Ivory Coast',\n",
    "    'SRB': 'Serbia',\n",
    "    'JOR': 'Jordan',\n",
    "    'SYR': 'Syria',\n",
    "    'BDI': 'Burundi',\n",
    "    'SGP': 'Singapore',\n",
    "    'KWT': 'Kuwait',\n",
    "    'PLW': 'Palau',\n",
    "    'QAT': 'Qatar',\n",
    "    'SVK': 'Slovakia',\n",
    "    'SUR': 'Suriname',\n",
    "    'MLT': 'Malta',\n",
    "    'MWI': 'Malawi',\n",
    "    'MDG': 'Madagascar',\n",
    "    'ISL': 'Iceland',\n",
    "    'JPN': 'Japan',\n",
    "    'CAF': 'Central African Republic',\n",
    "    'TGO': 'Togo',\n",
    "    'TWN': 'Taiwan',\n",
    "    'DJI': 'Djibouti',\n",
    "    'VNM': 'Vietnam',\n",
    "    'PER': 'Peru',\n",
    "    'EGY': 'Egypt',\n",
    "    'SAU': 'Saudi Arabia',\n",
    "    'KNA': 'Saint Kitts and Nevis',\n",
    "    'ETH': 'Ethiopia',\n",
    "    'ECU': 'Ecuador',\n",
    "    'IRQ': 'Iraq',\n",
    "    'KHM': 'Cambodia',\n",
    "    'MCO': 'Monaco',\n",
    "    'BGD': 'Bangladesh',\n",
    "    'TJK': 'Tajikistan',\n",
    "    'NIC': 'Nicaragua',\n",
    "    'GGY': 'Guernsey',\n",
    "    'BEN': 'Benin',\n",
    "    'VGB': 'British Virgin Islands',\n",
    "    'CRI': 'Costa Rica',\n",
    "    'TZA': 'Tanzania',\n",
    "    'GAB': 'Gabon',\n",
    "    'MKD': 'North Macedonia',\n",
    "    'TMP': 'East Timor',\n",
    "    'GLP': 'Guadeloupe',\n",
    "    'LIE': 'Liechtenstein',\n",
    "    'GNB': 'Guinea-Bissau',\n",
    "    'MAC': 'Macau',\n",
    "    'IMN': 'Isle of Man',\n",
    "    'UMI': 'U.S. Minor Outlying Islands',\n",
    "    'MYT': 'Mayotte',\n",
    "    'GHA': 'Ghana',\n",
    "    'FRO': 'Faroe Islands',\n",
    "    'MMR': 'Myanmar',\n",
    "    'PAN': 'Panama',\n",
    "    'MUS': 'Mauritius',\n",
    "    'LBY': 'Libya',\n",
    "    'NAM': 'Namibia',\n",
    "    'BOL': 'Bolivia',\n",
    "    'PRY': 'Paraguay',\n",
    "    'BRB': 'Barbados',\n",
    "    'ABW': 'Aruba',\n",
    "    'AIA': 'Anguilla',\n",
    "    'DMA': 'Dominica',\n",
    "    'UGA': 'Uganda',\n",
    "    'MNE': 'Montenegro',\n",
    "    'GTM': 'Guatemala',\n",
    "    'ASM': 'American Samoa',\n",
    "    'KEN': 'Kenya',\n",
    "    'NCL': 'New Caledonia',\n",
    "    'STP': 'Sao Tome and Principe',\n",
    "    'KIR': 'Kiribati',\n",
    "    'SDN': 'Sudan',\n",
    "    'ATF': 'French Southern Territories',\n",
    "    'SLE': 'Sierra Leone',\n",
    "    'SLV': 'El Salvador',\n",
    "    'LAO': 'Laos'\n",
    "}\n"
   ]
  },
  {
   "cell_type": "code",
   "execution_count": null,
   "metadata": {},
   "outputs": [],
   "source": [
    "df[\"country\"]=df[\"country\"].map(codigo_paises)"
   ]
  },
  {
   "cell_type": "code",
   "execution_count": null,
   "metadata": {},
   "outputs": [],
   "source": [
    "mapa_repeted = {1 :'Recurrent', 0 : 'First time', np.nan : np.nan}"
   ]
  },
  {
   "cell_type": "code",
   "execution_count": null,
   "metadata": {},
   "outputs": [],
   "source": [
    "df[\"is_repeated_guest\"]=df[\"is_repeated_guest\"].map(mapa_repeted)\n",
    "df['is_repeated_guest'].unique()"
   ]
  },
  {
   "cell_type": "code",
   "execution_count": null,
   "metadata": {},
   "outputs": [],
   "source": [
    "mapa_cancel = {True :'Cancelado', False : 'No Cancelado', np.nan: np.nan}"
   ]
  },
  {
   "cell_type": "code",
   "execution_count": null,
   "metadata": {},
   "outputs": [],
   "source": [
    "df[\"is_canceled\"]=df[\"is_canceled\"].map(mapa_cancel)\n",
    "df['is_canceled'].unique()"
   ]
  },
  {
   "cell_type": "code",
   "execution_count": null,
   "metadata": {},
   "outputs": [],
   "source": [
    "df['arrival_date_month'] = df['arrival_date_month'].str.replace('1', 'January').str.replace('2', 'February').str.replace('3', 'March')\n",
    "df['arrival_date_month'].unique()"
   ]
  },
  {
   "cell_type": "code",
   "execution_count": null,
   "metadata": {},
   "outputs": [],
   "source": [
    "df['previous_bookings_not_canceled'].value_counts()/df.shape[0]*100"
   ]
  },
  {
   "cell_type": "code",
   "execution_count": null,
   "metadata": {},
   "outputs": [],
   "source": [
    "df_rooms = df[['reserved_room_type', 'assigned_room_type']].sort_values"
   ]
  },
  {
   "cell_type": "code",
   "execution_count": null,
   "metadata": {},
   "outputs": [],
   "source": [
    "df_channels = df[['market_segment', 'distribution_channel']][df['market_segment'].notna()&df['distribution_channel'].notna()]\n",
    "df_channel = df_channels.groupby(['market_segment', 'distribution_channel']).size().reset_index(name='Freq').sort_values(by='distribution_channel')\n",
    "df_channel"
   ]
  },
  {
   "cell_type": "code",
   "execution_count": null,
   "metadata": {},
   "outputs": [],
   "source": [
    "col_desconocido = ['company', 'market_segment', 'country', 'reserved_room_type', 'customer_type', 'agent', 'distribution_channel', 'hotel', 'is_canceled', 'arrival_date_month', 'meal']\n",
    "# df[columna]=df[columna].fillna('Unknown')\"\n",
    "col_moda = ['children', 'previous_cancellations', 'is_repeated_guest', 'previous_bookings_not_canceled' ]\n",
    "# df.drop(columns = columnas_borrar, axis=1, inplace=True)\n",
    "col_eliminar= ['reservation_status_date','0']"
   ]
  }
 ],
 "metadata": {
  "kernelspec": {
   "display_name": "base",
   "language": "python",
   "name": "python3"
  },
  "language_info": {
   "codemirror_mode": {
    "name": "ipython",
    "version": 3
   },
   "file_extension": ".py",
   "mimetype": "text/x-python",
   "name": "python",
   "nbconvert_exporter": "python",
   "pygments_lexer": "ipython3",
   "version": "3.9.7"
  }
 },
 "nbformat": 4,
 "nbformat_minor": 2
}

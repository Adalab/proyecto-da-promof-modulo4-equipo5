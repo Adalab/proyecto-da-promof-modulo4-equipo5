{
 "cells": [
  {
   "cell_type": "code",
   "execution_count": null,
   "metadata": {},
   "outputs": [],
   "source": [
    "# Tratamiento de datos\n",
    "# -----------------------------------------------------------------------\n",
    "import pandas as pd\n",
    "import numpy as np\n",
    "\n",
    "# Imputación de nulos usando métodos avanzados estadísticos\n",
    "# -----------------------------------------------------------------------\n",
    "from sklearn.impute import SimpleImputer\n",
    "from sklearn.experimental import enable_iterative_imputer\n",
    "from sklearn.impute import IterativeImputer\n",
    "from sklearn.impute import KNNImputer\n",
    "\n",
    "# Librerías de visualización\n",
    "# -----------------------------------------------------------------------\n",
    "import seaborn as sns\n",
    "import matplotlib.pyplot as plt\n",
    "\n",
    "# Librerías para trabajar con fechas\n",
    "# -----------------------------------------------------------------------\n",
    "from datetime import datetime\n",
    "\n",
    "# Configuración\n",
    "# -----------------------------------------------------------------------\n",
    "pd.set_option('display.max_columns', None) # para poder visualizar todas las columnas de los DataFrames\n",
    "#pd.set_option('display.max_rows', None) # para poder visualizar todas las filas de los DataFrames"
   ]
  },
  {
   "cell_type": "code",
   "execution_count": null,
   "metadata": {},
   "outputs": [],
   "source": [
    "df = pd.read_csv('bookings_clean_ok.csv', index_col=0)"
   ]
  },
  {
   "cell_type": "code",
   "execution_count": null,
   "metadata": {},
   "outputs": [],
   "source": [
    "df[\"is_canceled\"].sample(5)"
   ]
  },
  {
   "cell_type": "code",
   "execution_count": null,
   "metadata": {},
   "outputs": [],
   "source": [
    "df_cancelados=  df[df[\"is_canceled\"]== \"Cancelado\"]"
   ]
  },
  {
   "cell_type": "code",
   "execution_count": null,
   "metadata": {},
   "outputs": [],
   "source": [
    "df_cancelados[\"is_canceled\"].count()"
   ]
  },
  {
   "cell_type": "code",
   "execution_count": null,
   "metadata": {},
   "outputs": [],
   "source": [
    "#tasa cancelacion\n",
    "\n",
    "tasa_cancelacion= df_cancelados[\"is_canceled\"].count()/df[\"is_canceled\"].count()"
   ]
  },
  {
   "cell_type": "code",
   "execution_count": null,
   "metadata": {},
   "outputs": [],
   "source": [
    "tasa_cancelacion*100"
   ]
  },
  {
   "cell_type": "code",
   "execution_count": null,
   "metadata": {},
   "outputs": [],
   "source": [
    "df.columns"
   ]
  },
  {
   "cell_type": "code",
   "execution_count": null,
   "metadata": {},
   "outputs": [],
   "source": [
    "# cancelaciones por reserva\n",
    "fig, axes = plt.subplots(2, 2, figsize=(16, 12))\n",
    "sns.countplot(x='assigned_room_type', hue='is_canceled', data=df_cancelados, color=\"violet\", ax=axes[0, 0])\n",
    "axes[0, 0].set_title('qué habitaciones ASIGNADAS se cancelan más')\n",
    "axes[0, 0].tick_params(axis='x', rotation=90)\n",
    "sns.countplot(x='reserved_room_type', hue='is_canceled', data=df_cancelados, color=\"violet\", ax=axes[0, 1])\n",
    "axes[0, 1].set_title('qué habitaciones RESERVADAS se cancelan más')\n",
    "axes[0, 1].tick_params(axis='x', rotation=90)\n",
    "sns.countplot(x='meal', hue='is_canceled', data=df_cancelados, color=\"violet\", ax=axes[1,0])\n",
    "axes[1,0].set_title('qué MEAL se cancela más')\n",
    "axes[1,0].tick_params(axis='x', rotation=90)\n",
    "sns.countplot(x='country', hue='is_canceled', data=df_cancelados, color=\"violet\", ax=axes[1,1])\n",
    "axes[1,1].set_title('qué tipo de  country  se cancela más')\n",
    "axes[1,1].tick_params(axis='x', rotation=90)\n"
   ]
  },
  {
   "cell_type": "code",
   "execution_count": null,
   "metadata": {},
   "outputs": [],
   "source": [
    "sns.histplot(x='total_nights', data=df_cancelados, bins = 20,color=\"violet\")\n",
    "#'Distribución cancelaciones por noche reservada'"
   ]
  },
  {
   "cell_type": "code",
   "execution_count": null,
   "metadata": {},
   "outputs": [],
   "source": [
    "sns.histplot(x='adr', data=df_cancelados, bins = 20,color=\"violet\")\n",
    "#'Distribución cancelaciones por PRECIO reservada'"
   ]
  },
  {
   "cell_type": "code",
   "execution_count": null,
   "metadata": {},
   "outputs": [],
   "source": [
    "sns.scatterplot(y = 'total_nights', \n",
    "            x = \"adr\", \n",
    "            data = df_cancelados, \n",
    "            marker = \"d\", \n",
    "       \n",
    "            )"
   ]
  },
  {
   "cell_type": "code",
   "execution_count": null,
   "metadata": {},
   "outputs": [],
   "source": [
    "sns.countplot(x='required_car_parking_spaces', hue='is_canceled', data=df, color=\"violet\")\n",
    "#'Distribución cancelaciones por Parking reservada'\n"
   ]
  },
  {
   "cell_type": "code",
   "execution_count": null,
   "metadata": {},
   "outputs": [],
   "source": [
    "sns.countplot(x='required_car_parking_spaces', hue='is_canceled', data=df, color=\"violet\")\n",
    "#'Distribución cancelaciones por Parking reservada'"
   ]
  },
  {
   "cell_type": "code",
   "execution_count": null,
   "metadata": {},
   "outputs": [],
   "source": [
    "df.columns"
   ]
  },
  {
   "cell_type": "code",
   "execution_count": null,
   "metadata": {},
   "outputs": [],
   "source": [
    "list_numericas =['arrival_date_year',]"
   ]
  },
  {
   "cell_type": "code",
   "execution_count": null,
   "metadata": {},
   "outputs": [],
   "source": [
    "numericas = df.select_dtypes(include = np.number).columns"
   ]
  },
  {
   "cell_type": "code",
   "execution_count": null,
   "metadata": {},
   "outputs": [],
   "source": [
    "len(numericas)"
   ]
  },
  {
   "cell_type": "code",
   "execution_count": null,
   "metadata": {},
   "outputs": [],
   "source": [
    "\n",
    "fig, axes = plt.subplots(nrows = 6, ncols = 3, figsize = (20,10)) \n",
    "\n",
    "axes = axes.flat #aplanar los indices (solo un indice)\n",
    "\n",
    "for indice, col in enumerate(numericas):\n",
    "\n",
    "    sns.barplot(x = \"is_canceled\", \n",
    "            y = col, \n",
    "            data = df, \n",
    "            ax = axes[indice]\n",
    "            )"
   ]
  },
  {
   "cell_type": "code",
   "execution_count": null,
   "metadata": {},
   "outputs": [],
   "source": [
    "df.columns"
   ]
  },
  {
   "cell_type": "code",
   "execution_count": null,
   "metadata": {},
   "outputs": [],
   "source": [
    "sns.countplot(x= 'booking_changes', hue='is_canceled', data=df, color=\"violet\")\n",
    "#'Distribución cancelaciones por booking changes'"
   ]
  },
  {
   "cell_type": "code",
   "execution_count": null,
   "metadata": {},
   "outputs": [],
   "source": [
    "sns.countplot(x= 'stays_in_week_nights', hue='is_canceled', data=df, color=\"violet\")\n",
    "#'Distribución cancelaciones por stays_in_week_nights'"
   ]
  },
  {
   "cell_type": "code",
   "execution_count": null,
   "metadata": {},
   "outputs": [],
   "source": [
    "sns.countplot(x= 'stays_in_weekend_nights', hue='is_canceled', data=df, color=\"violet\")\n",
    "#'Distribución cancelaciones por stays_in_weekend_nights'"
   ]
  },
  {
   "cell_type": "code",
   "execution_count": null,
   "metadata": {},
   "outputs": [],
   "source": [
    "sns.countplot(x= 'arrival_date_month', hue='is_canceled', data=df, color=\"violet\")\n",
    "#'Distribución cancelaciones por arrival_date_month'"
   ]
  },
  {
   "cell_type": "code",
   "execution_count": null,
   "metadata": {},
   "outputs": [],
   "source": [
    "sns.countplot(x='arrival_date_year', hue='is_canceled', data=df, color=\"violet\")\n",
    "#'Distribución cancelaciones por arrival_date_year'"
   ]
  }
 ],
 "metadata": {
  "kernelspec": {
   "display_name": "Python 3",
   "language": "python",
   "name": "python3"
  },
  "language_info": {
   "codemirror_mode": {
    "name": "ipython",
    "version": 3
   },
   "file_extension": ".py",
   "mimetype": "text/x-python",
   "name": "python",
   "nbconvert_exporter": "python",
   "pygments_lexer": "ipython3",
   "version": "3.11.7"
  }
 },
 "nbformat": 4,
 "nbformat_minor": 2
}
